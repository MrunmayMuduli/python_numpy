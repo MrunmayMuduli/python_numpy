{
 "cells": [
  {
   "cell_type": "code",
   "execution_count": 79,
   "id": "8d5c8a50",
   "metadata": {},
   "outputs": [],
   "source": [
    "import numpy as np"
   ]
  },
  {
   "cell_type": "code",
   "execution_count": 80,
   "id": "fa69a5a0",
   "metadata": {},
   "outputs": [
    {
     "name": "stdout",
     "output_type": "stream",
     "text": [
      "[[ 1  2  3  4]\n",
      " [ 5  6  7  8]\n",
      " [ 9 10 11 12]]\n"
     ]
    }
   ],
   "source": [
    "a1 = np.arange(1,13).reshape(3,4)\n",
    "print(a1)"
   ]
  },
  {
   "cell_type": "code",
   "execution_count": 81,
   "id": "785b05ae",
   "metadata": {},
   "outputs": [
    {
     "name": "stdout",
     "output_type": "stream",
     "text": [
      "[1 2 3 4 5]\n"
     ]
    }
   ],
   "source": [
    "mask1 = a1<6\n",
    "print(a1[mask1])"
   ]
  },
  {
   "cell_type": "code",
   "execution_count": 82,
   "id": "973a8f6e",
   "metadata": {},
   "outputs": [
    {
     "name": "stdout",
     "output_type": "stream",
     "text": [
      "[2]\n"
     ]
    }
   ],
   "source": [
    "mask2 = a1 == 2\n",
    "print(a1[mask2])"
   ]
  },
  {
   "cell_type": "code",
   "execution_count": 83,
   "id": "2aab5e72",
   "metadata": {},
   "outputs": [
    {
     "name": "stdout",
     "output_type": "stream",
     "text": [
      "[ 1  2  7  8  9 10 11 12] \n",
      "\n",
      "[4 5]\n"
     ]
    }
   ],
   "source": [
    "mask3 = (a1<3) | (a1>6)\n",
    "mask4 = (a1>3) & (a1<6)\n",
    "print(a1[mask3],\"\\n\")\n",
    "print(a1[mask4])"
   ]
  },
  {
   "cell_type": "code",
   "execution_count": 84,
   "id": "c1b616f0",
   "metadata": {},
   "outputs": [
    {
     "name": "stdout",
     "output_type": "stream",
     "text": [
      "[[ 9 10 11 12]\n",
      " [13 14 15 16]\n",
      " [17 18 19 20]]\n"
     ]
    }
   ],
   "source": [
    "a2 = a1+8\n",
    "print(a2)"
   ]
  },
  {
   "cell_type": "code",
   "execution_count": 85,
   "id": "9e2ef002",
   "metadata": {},
   "outputs": [
    {
     "name": "stdout",
     "output_type": "stream",
     "text": [
      "[[ True  True  True  True]\n",
      " [ True  True  True  True]\n",
      " [ True  True  True  True]]\n"
     ]
    }
   ],
   "source": [
    "a3 = np.arange(1,13).reshape(3,4)\n",
    "a4 = np.arange(1,13).reshape(3,4)\n",
    "print(a3 == a4)"
   ]
  },
  {
   "cell_type": "code",
   "execution_count": 86,
   "id": "393928a2",
   "metadata": {},
   "outputs": [
    {
     "name": "stdout",
     "output_type": "stream",
     "text": [
      "False\n"
     ]
    },
    {
     "name": "stderr",
     "output_type": "stream",
     "text": [
      "/var/folders/qf/b_1clwxx1f11gyqwhwkz9lrh0000gn/T/ipykernel_19399/3214156684.py:3: DeprecationWarning: elementwise comparison failed; this will raise an error in the future.\n",
      "  print(a3 == a4)\n"
     ]
    }
   ],
   "source": [
    "a3 = np.arange(1,13).reshape(3,4)\n",
    "a4 = np.arange(1,13).reshape(4,3)\n",
    "print(a3 == a4)"
   ]
  },
  {
   "cell_type": "code",
   "execution_count": 87,
   "id": "a9f62ede",
   "metadata": {},
   "outputs": [
    {
     "name": "stdout",
     "output_type": "stream",
     "text": [
      "[False False False  True  True] \n",
      "\n",
      "[ True  True  True False False]\n"
     ]
    }
   ],
   "source": [
    "a5 = np.array([1,2,3,4,5])\n",
    "a6 = np.array([9,4,5,3,2])\n",
    "print(a5>a6,\"\\n\")\n",
    "print(a6>a5)"
   ]
  },
  {
   "cell_type": "code",
   "execution_count": 88,
   "id": "2dcf0b6d",
   "metadata": {},
   "outputs": [
    {
     "name": "stdout",
     "output_type": "stream",
     "text": [
      "[[ 1  2  3  4]\n",
      " [ 5  6  7  8]\n",
      " [ 9 10 11 12]] \n",
      "\n",
      "[[ 0  0  0  0]\n",
      " [ 0  6  7  8]\n",
      " [ 9 10 11 12]]\n"
     ]
    }
   ],
   "source": [
    "a7 = np.arange(1,13).reshape(3,4)\n",
    "print(a7,\"\\n\")\n",
    "a7[a7<6] = 0\n",
    "print(a7)"
   ]
  },
  {
   "cell_type": "code",
   "execution_count": 89,
   "id": "2c12bfdc",
   "metadata": {},
   "outputs": [
    {
     "name": "stdout",
     "output_type": "stream",
     "text": [
      "[0 1 2 3 4 5 6 7 8 9] \n",
      "\n",
      "[19  1 19  3 19  5 19  7 19  9]\n"
     ]
    }
   ],
   "source": [
    "a8 = np.array([0,1,2,3,4,5,6,7,8,9])\n",
    "print(a8,\"\\n\")\n",
    "mask5 = a8%2 == 0\n",
    "a8[mask5] = 19\n",
    "print(a8)"
   ]
  },
  {
   "cell_type": "code",
   "execution_count": 90,
   "id": "db8081bf",
   "metadata": {},
   "outputs": [
    {
     "name": "stdout",
     "output_type": "stream",
     "text": [
      "[10  6  8  7  7]\n",
      "[10  6  8  7  7]\n"
     ]
    },
    {
     "data": {
      "text/plain": [
       "array([0.11111111, 0.5       , 0.6       , 1.33333333, 2.5       ])"
      ]
     },
     "execution_count": 90,
     "metadata": {},
     "output_type": "execute_result"
    }
   ],
   "source": [
    "a5 = np.array([1,2,3,4,5])\n",
    "a6 = np.array([9,4,5,3,2])\n",
    "print(a5+a6)\n",
    "print(np.add(a5,a6))\n",
    "np.divide(a5,a6)"
   ]
  },
  {
   "cell_type": "code",
   "execution_count": 91,
   "id": "51d9766a",
   "metadata": {},
   "outputs": [
    {
     "name": "stdout",
     "output_type": "stream",
     "text": [
      "[[ 2  4  6  8]\n",
      " [10 12 14 16]\n",
      " [18 20 22 24]]\n"
     ]
    },
    {
     "data": {
      "text/plain": [
       "array([[1., 1., 1., 1.],\n",
       "       [1., 1., 1., 1.],\n",
       "       [1., 1., 1., 1.]])"
      ]
     },
     "execution_count": 91,
     "metadata": {},
     "output_type": "execute_result"
    }
   ],
   "source": [
    "a3 = np.arange(1,13).reshape(3,4)\n",
    "a4 = np.arange(1,13).reshape(3,4)\n",
    "print(a3+a4)\n",
    "np.add(a3,a4)\n",
    "np.divide(a3,a4)"
   ]
  },
  {
   "cell_type": "code",
   "execution_count": 92,
   "id": "7ca8af14",
   "metadata": {},
   "outputs": [
    {
     "name": "stdout",
     "output_type": "stream",
     "text": [
      "78\n",
      "15\n"
     ]
    }
   ],
   "source": [
    "print(np.sum(a3))\n",
    "print(np.sum(a5))"
   ]
  },
  {
   "cell_type": "code",
   "execution_count": 93,
   "id": "d48823e1",
   "metadata": {},
   "outputs": [
    {
     "name": "stdout",
     "output_type": "stream",
     "text": [
      "['Astha' 'Raghavendra' 'Ram']\n"
     ]
    }
   ],
   "source": [
    "print(np.sort(np.array(['Ram','Astha','Raghavendra'])))"
   ]
  },
  {
   "cell_type": "code",
   "execution_count": 94,
   "id": "604d55b6",
   "metadata": {},
   "outputs": [
    {
     "data": {
      "text/plain": [
       "array([False, False, False])"
      ]
     },
     "execution_count": 94,
     "metadata": {},
     "output_type": "execute_result"
    }
   ],
   "source": [
    "arr1=np.array(['Ram','Astha','Brahat'])\n",
    "arr2=np.array(['Shyam','Kalyan','Naveen'])\n",
    "arr1>arr2"
   ]
  },
  {
   "cell_type": "code",
   "execution_count": 102,
   "id": "7c3d2602",
   "metadata": {},
   "outputs": [
    {
     "name": "stdout",
     "output_type": "stream",
     "text": [
      "[[ 1  2  3  4]\n",
      " [ 5  6  7  8]\n",
      " [ 9 10 11 12]] \n",
      "\n",
      "78 \n",
      "\n",
      "[10 26 42] \n",
      "\n",
      "[15 18 21 24]\n"
     ]
    }
   ],
   "source": [
    "a6 = np.arange(1,13).reshape(3,4)\n",
    "print(a6,\"\\n\")\n",
    "print(np.sum(a6),\"\\n\")\n",
    "print(np.sum(a6,axis=1),\"\\n\")\n",
    "print(np.sum(a6,axis=0))"
   ]
  },
  {
   "cell_type": "code",
   "execution_count": 106,
   "id": "36cbe373",
   "metadata": {},
   "outputs": [
    {
     "data": {
      "text/plain": [
       "78"
      ]
     },
     "execution_count": 106,
     "metadata": {},
     "output_type": "execute_result"
    }
   ],
   "source": [
    "a6.sum()"
   ]
  },
  {
   "cell_type": "code",
   "execution_count": 107,
   "id": "19b4d2c0",
   "metadata": {},
   "outputs": [
    {
     "data": {
      "text/plain": [
       "15"
      ]
     },
     "execution_count": 107,
     "metadata": {},
     "output_type": "execute_result"
    }
   ],
   "source": [
    "a6[:,0].sum()"
   ]
  },
  {
   "cell_type": "code",
   "execution_count": 108,
   "id": "c0da82b3",
   "metadata": {},
   "outputs": [
    {
     "data": {
      "text/plain": [
       "10"
      ]
     },
     "execution_count": 108,
     "metadata": {},
     "output_type": "execute_result"
    }
   ],
   "source": [
    "np.sum(a6[0,:])"
   ]
  },
  {
   "cell_type": "code",
   "execution_count": 127,
   "id": "f86816da",
   "metadata": {},
   "outputs": [
    {
     "name": "stdout",
     "output_type": "stream",
     "text": [
      "[[ 1  2  3  4]\n",
      " [ 5  6  7  8]\n",
      " [ 9 10 11 12]] \n",
      "\n",
      "[5. 6. 7. 8.] \n",
      "\n",
      "[ 2.5  6.5 10.5]\n"
     ]
    }
   ],
   "source": [
    "a7 = np.arange(1,13).reshape(3,4)\n",
    "print(a7,\"\\n\")\n",
    "print(np.mean(a7,axis = 0),\"\\n\")\n",
    "print(np.mean(a7,axis = 1))"
   ]
  },
  {
   "cell_type": "code",
   "execution_count": 130,
   "id": "588c40b5",
   "metadata": {},
   "outputs": [
    {
     "name": "stdout",
     "output_type": "stream",
     "text": [
      "2.5\n"
     ]
    }
   ],
   "source": [
    "print(np.mean(a7[0],axis = 0))"
   ]
  },
  {
   "cell_type": "code",
   "execution_count": 197,
   "id": "cc90c70b",
   "metadata": {
    "scrolled": true
   },
   "outputs": [
    {
     "name": "stdout",
     "output_type": "stream",
     "text": [
      "5.0\n"
     ]
    }
   ],
   "source": [
    "a7 = np.arange(1,13).reshape(3,4)\n",
    "print(np.mean(a7[:,0],axis = 0))"
   ]
  },
  {
   "cell_type": "code",
   "execution_count": 142,
   "id": "f7a6d4a6",
   "metadata": {},
   "outputs": [
    {
     "data": {
      "text/plain": [
       "array([ 9, 10, 11, 12])"
      ]
     },
     "execution_count": 142,
     "metadata": {},
     "output_type": "execute_result"
    }
   ],
   "source": [
    "np.max(a7,axis = 0)"
   ]
  },
  {
   "cell_type": "code",
   "execution_count": 143,
   "id": "74430d67",
   "metadata": {},
   "outputs": [
    {
     "data": {
      "text/plain": [
       "array([ 4,  8, 12])"
      ]
     },
     "execution_count": 143,
     "metadata": {},
     "output_type": "execute_result"
    }
   ],
   "source": [
    "np.max(a7,axis = 1)"
   ]
  },
  {
   "cell_type": "code",
   "execution_count": 144,
   "id": "db0028b8",
   "metadata": {},
   "outputs": [
    {
     "data": {
      "text/plain": [
       "array([1, 5, 9])"
      ]
     },
     "execution_count": 144,
     "metadata": {},
     "output_type": "execute_result"
    }
   ],
   "source": [
    "np.min(a7,axis = 1)"
   ]
  },
  {
   "cell_type": "code",
   "execution_count": 145,
   "id": "700b68b8",
   "metadata": {},
   "outputs": [
    {
     "data": {
      "text/plain": [
       "array([1, 2, 3, 4])"
      ]
     },
     "execution_count": 145,
     "metadata": {},
     "output_type": "execute_result"
    }
   ],
   "source": [
    "np.min(a7,axis = 0)"
   ]
  },
  {
   "cell_type": "code",
   "execution_count": 146,
   "id": "41fac960",
   "metadata": {},
   "outputs": [
    {
     "data": {
      "text/plain": [
       "True"
      ]
     },
     "execution_count": 146,
     "metadata": {},
     "output_type": "execute_result"
    }
   ],
   "source": [
    "a8 = np.array([0,1,0])\n",
    "np.any(a8)"
   ]
  },
  {
   "cell_type": "code",
   "execution_count": 148,
   "id": "ddcd8535",
   "metadata": {},
   "outputs": [
    {
     "data": {
      "text/plain": [
       "False"
      ]
     },
     "execution_count": 148,
     "metadata": {},
     "output_type": "execute_result"
    }
   ],
   "source": [
    "a8 = np.array([0,0,0])\n",
    "np.any(a8)# Return true if any non zero value is presnet"
   ]
  },
  {
   "cell_type": "code",
   "execution_count": 150,
   "id": "76b2114c",
   "metadata": {},
   "outputs": [
    {
     "name": "stdout",
     "output_type": "stream",
     "text": [
      "[ True  True False]\n"
     ]
    }
   ],
   "source": [
    "a8 = np.array([2,4,8])\n",
    "a9 = np.array([4,5,6])\n",
    "print(a8<a9)"
   ]
  },
  {
   "cell_type": "code",
   "execution_count": 151,
   "id": "f108d6bc",
   "metadata": {},
   "outputs": [
    {
     "name": "stdout",
     "output_type": "stream",
     "text": [
      "[False False  True]\n"
     ]
    }
   ],
   "source": [
    "print(a9<a8)"
   ]
  },
  {
   "cell_type": "code",
   "execution_count": 152,
   "id": "7426c75f",
   "metadata": {},
   "outputs": [
    {
     "name": "stdout",
     "output_type": "stream",
     "text": [
      "True\n"
     ]
    }
   ],
   "source": [
    "print(np.any(a9<a8)) #Return true if any non zero(True) value is present. True is present"
   ]
  },
  {
   "cell_type": "code",
   "execution_count": 153,
   "id": "ff0f3309",
   "metadata": {},
   "outputs": [
    {
     "name": "stdout",
     "output_type": "stream",
     "text": [
      "False\n"
     ]
    }
   ],
   "source": [
    "a10 = np.array([False,False,False])\n",
    "print(np.any(a10))"
   ]
  },
  {
   "cell_type": "code",
   "execution_count": 154,
   "id": "7e4fa858",
   "metadata": {},
   "outputs": [
    {
     "name": "stdout",
     "output_type": "stream",
     "text": [
      "True\n"
     ]
    }
   ],
   "source": [
    "a10 = np.array([False,False,True])\n",
    "print(np.any(a10))"
   ]
  },
  {
   "cell_type": "code",
   "execution_count": 156,
   "id": "0c7c7387",
   "metadata": {},
   "outputs": [
    {
     "name": "stdout",
     "output_type": "stream",
     "text": [
      "True\n"
     ]
    }
   ],
   "source": [
    "print(np.any(a9%2 == 0))"
   ]
  },
  {
   "cell_type": "code",
   "execution_count": 157,
   "id": "f6922d19",
   "metadata": {},
   "outputs": [
    {
     "data": {
      "text/plain": [
       "False"
      ]
     },
     "execution_count": 157,
     "metadata": {},
     "output_type": "execute_result"
    }
   ],
   "source": [
    "b1 = np.array([8,6,54,3,4,5,7,8,1])\n",
    "b2 = np.array([2,5,6,7,8,9,0,7,6])\n",
    "np.all(b1<b2)"
   ]
  },
  {
   "cell_type": "code",
   "execution_count": 158,
   "id": "a0b18954",
   "metadata": {},
   "outputs": [
    {
     "data": {
      "text/plain": [
       "False"
      ]
     },
     "execution_count": 158,
     "metadata": {},
     "output_type": "execute_result"
    }
   ],
   "source": [
    "np.all(b1>b2)"
   ]
  },
  {
   "cell_type": "code",
   "execution_count": 167,
   "id": "416ad07b",
   "metadata": {},
   "outputs": [
    {
     "data": {
      "text/plain": [
       "False"
      ]
     },
     "execution_count": 167,
     "metadata": {},
     "output_type": "execute_result"
    }
   ],
   "source": [
    "b1 = np.array([8,6,5,3,4,5,7,8,1])\n",
    "b2 = np.array([1,2,3,2,3,0,1,2,0])\n",
    "np.all(b1<b2)"
   ]
  },
  {
   "cell_type": "code",
   "execution_count": 168,
   "id": "8a27ed68",
   "metadata": {},
   "outputs": [
    {
     "data": {
      "text/plain": [
       "True"
      ]
     },
     "execution_count": 168,
     "metadata": {},
     "output_type": "execute_result"
    }
   ],
   "source": [
    "np.all(b1>b2)"
   ]
  },
  {
   "cell_type": "code",
   "execution_count": 171,
   "id": "767b751d",
   "metadata": {},
   "outputs": [
    {
     "data": {
      "text/plain": [
       "True"
      ]
     },
     "execution_count": 171,
     "metadata": {},
     "output_type": "execute_result"
    }
   ],
   "source": [
    "np.all((b1<b2) | (b2<b1))"
   ]
  },
  {
   "cell_type": "code",
   "execution_count": 173,
   "id": "63bcc42b",
   "metadata": {},
   "outputs": [
    {
     "name": "stdout",
     "output_type": "stream",
     "text": [
      "[ 0  3  5  5  6  6  6  7  7  8  9 85]\n"
     ]
    }
   ],
   "source": [
    "b3 = np.array([8,9,6,7,85,6,7,5,6,5,3,0])\n",
    "b3.sort()\n",
    "print(b3)"
   ]
  },
  {
   "cell_type": "code",
   "execution_count": 175,
   "id": "49ebcde5",
   "metadata": {},
   "outputs": [
    {
     "name": "stdout",
     "output_type": "stream",
     "text": [
      "[ 8  9  6  7 85  6  7  5  6  5  3  0] \n",
      "\n",
      "[ 0  3  5  5  6  6  6  7  7  8  9 85]\n"
     ]
    }
   ],
   "source": [
    "b3 = np.array([8,9,6,7,85,6,7,5,6,5,3,0])\n",
    "print(b3,\"\\n\")\n",
    "print(np.sort(b3))"
   ]
  },
  {
   "cell_type": "code",
   "execution_count": 176,
   "id": "e2b2f69f",
   "metadata": {},
   "outputs": [
    {
     "data": {
      "text/plain": [
       "array([11, 10,  7,  9,  2,  5,  8,  3,  6,  0,  1,  4])"
      ]
     },
     "execution_count": 176,
     "metadata": {},
     "output_type": "execute_result"
    }
   ],
   "source": [
    "np.argsort(b3)# Return index of sorted array(arg gives index)"
   ]
  },
  {
   "cell_type": "code",
   "execution_count": 180,
   "id": "da1ee25e",
   "metadata": {},
   "outputs": [
    {
     "name": "stdout",
     "output_type": "stream",
     "text": [
      "[[6 1 7 0 5 9]\n",
      " [2 4 2 5 6 8]\n",
      " [9 8 6 5 3 2]] \n",
      "\n",
      "[[0 1 5 6 7 9]\n",
      " [2 2 4 5 6 8]\n",
      " [2 3 5 6 8 9]] \n",
      "\n",
      "[[3 1 4 0 2 5]\n",
      " [0 2 1 3 4 5]\n",
      " [5 4 3 2 1 0]]\n"
     ]
    }
   ],
   "source": [
    "b4 = np.array([[6,1,7,0,5,9],[2,4,2,5,6,8],[9,8,6,5,3,2]])\n",
    "print(b4,\"\\n\")\n",
    "print(np.sort(b4),\"\\n\")\n",
    "print(np.argsort(b4))"
   ]
  },
  {
   "cell_type": "code",
   "execution_count": 192,
   "id": "cc06c49d",
   "metadata": {},
   "outputs": [
    {
     "name": "stdout",
     "output_type": "stream",
     "text": [
      "[[6 1 7 0 5 9]\n",
      " [2 4 2 5 6 8]\n",
      " [9 8 6 5 3 2]] \n",
      "\n",
      "[[0 1 5 6 7 9]\n",
      " [2 2 4 5 6 8]\n",
      " [2 3 5 6 8 9]] \n",
      "\n",
      "[[0 1 2 3 4 5]\n",
      " [0 1 2 3 4 5]\n",
      " [0 1 2 3 4 5]]\n"
     ]
    }
   ],
   "source": [
    "b4 = np.array([[6,1,7,0,5,9],[2,4,2,5,6,8],[9,8,6,5,3,2]])\n",
    "print(b4,\"\\n\")\n",
    "b5 = np.sort(b4,axis = 1)\n",
    "print(b5,\"\\n\")\n",
    "print(np.argsort(b5))#Return index of the sort array for axis 1(always return index in this format)"
   ]
  },
  {
   "cell_type": "code",
   "execution_count": 193,
   "id": "32baf0f3",
   "metadata": {},
   "outputs": [
    {
     "data": {
      "text/plain": [
       "array([[2, 1, 2, 0, 3, 2],\n",
       "       [6, 4, 6, 5, 5, 8],\n",
       "       [9, 8, 7, 5, 6, 9]])"
      ]
     },
     "execution_count": 193,
     "metadata": {},
     "output_type": "execute_result"
    }
   ],
   "source": [
    "np.sort(b4,axis = 0)"
   ]
  },
  {
   "cell_type": "code",
   "execution_count": null,
   "id": "795902b4",
   "metadata": {},
   "outputs": [],
   "source": []
  }
 ],
 "metadata": {
  "kernelspec": {
   "display_name": "Python 3 (ipykernel)",
   "language": "python",
   "name": "python3"
  },
  "language_info": {
   "codemirror_mode": {
    "name": "ipython",
    "version": 3
   },
   "file_extension": ".py",
   "mimetype": "text/x-python",
   "name": "python",
   "nbconvert_exporter": "python",
   "pygments_lexer": "ipython3",
   "version": "3.9.7"
  }
 },
 "nbformat": 4,
 "nbformat_minor": 5
}
