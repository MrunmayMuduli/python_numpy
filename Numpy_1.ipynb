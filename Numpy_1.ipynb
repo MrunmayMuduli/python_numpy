{
 "cells": [
  {
   "cell_type": "code",
   "execution_count": 1,
   "id": "47c0695e",
   "metadata": {},
   "outputs": [
    {
     "name": "stdout",
     "output_type": "stream",
     "text": [
      "Requirement already satisfied: numpy in /Users/mrunmay/opt/anaconda3/lib/python3.9/site-packages (1.20.3)\r\n"
     ]
    }
   ],
   "source": [
    "!pip install numpy"
   ]
  },
  {
   "cell_type": "code",
   "execution_count": 54,
   "id": "57e6724d",
   "metadata": {},
   "outputs": [],
   "source": [
    "import numpy as np"
   ]
  },
  {
   "cell_type": "code",
   "execution_count": 55,
   "id": "548f8e09",
   "metadata": {},
   "outputs": [
    {
     "name": "stdout",
     "output_type": "stream",
     "text": [
      "[ 4  8 12 16 20 24 28 32 36]\n"
     ]
    }
   ],
   "source": [
    "a1 = [1,2,3,4,5,6,7,8,9]\n",
    "a2 = np.array(a1)\n",
    "print(a2*4)"
   ]
  },
  {
   "cell_type": "code",
   "execution_count": 56,
   "id": "43e7586d",
   "metadata": {
    "scrolled": true
   },
   "outputs": [
    {
     "name": "stdout",
     "output_type": "stream",
     "text": [
      "[  0   2   4   6   8  10  12  14  16  18  20  22  24  26  28  30  32  34\n",
      "  36  38  40  42  44  46  48  50  52  54  56  58  60  62  64  66  68  70\n",
      "  72  74  76  78  80  82  84  86  88  90  92  94  96  98 100 102 104 106\n",
      " 108 110 112 114 116 118 120 122 124 126 128 130 132 134 136 138 140 142\n",
      " 144 146 148 150 152 154 156 158 160 162 164 166 168 170 172 174 176 178\n",
      " 180 182 184 186 188 190 192 194 196 198]\n"
     ]
    }
   ],
   "source": [
    "a3 = np.arange(100)\n",
    "print(a3*2)"
   ]
  },
  {
   "cell_type": "code",
   "execution_count": 60,
   "id": "bd8460dc",
   "metadata": {},
   "outputs": [
    {
     "name": "stdout",
     "output_type": "stream",
     "text": [
      "694 ns ± 11.3 ns per loop (mean ± std. dev. of 7 runs, 1000000 loops each)\n"
     ]
    }
   ],
   "source": [
    "%timeit a3*2"
   ]
  },
  {
   "cell_type": "code",
   "execution_count": 61,
   "id": "f5fcf969",
   "metadata": {},
   "outputs": [
    {
     "data": {
      "text/plain": [
       "1"
      ]
     },
     "execution_count": 61,
     "metadata": {},
     "output_type": "execute_result"
    }
   ],
   "source": [
    "a2.ndim"
   ]
  },
  {
   "cell_type": "code",
   "execution_count": 62,
   "id": "31cbea8c",
   "metadata": {},
   "outputs": [
    {
     "data": {
      "text/plain": [
       "(9,)"
      ]
     },
     "execution_count": 62,
     "metadata": {},
     "output_type": "execute_result"
    }
   ],
   "source": [
    "a2.shape"
   ]
  },
  {
   "cell_type": "code",
   "execution_count": 63,
   "id": "15c84a2b",
   "metadata": {},
   "outputs": [
    {
     "data": {
      "text/plain": [
       "(100,)"
      ]
     },
     "execution_count": 63,
     "metadata": {},
     "output_type": "execute_result"
    }
   ],
   "source": [
    "a3.shape"
   ]
  },
  {
   "cell_type": "code",
   "execution_count": 64,
   "id": "df66a4eb",
   "metadata": {},
   "outputs": [
    {
     "name": "stdout",
     "output_type": "stream",
     "text": [
      "[ 2  4  6  8 10 12 14 16 18 20 22 24 26 28 30 32 34 36 38 40 42 44 46 48\n",
      " 50]\n",
      "[50 48 46 44 42 40 38 36 34 32 30 28 26 24 22 20 18 16 14 12 10  8  6  4\n",
      "  2]\n"
     ]
    }
   ],
   "source": [
    "a4 = np.arange(2,51,2)\n",
    "print(a4)\n",
    "a5 = np.arange(50,1,-2)\n",
    "print(a5)"
   ]
  },
  {
   "cell_type": "code",
   "execution_count": 65,
   "id": "24d69992",
   "metadata": {},
   "outputs": [
    {
     "name": "stdout",
     "output_type": "stream",
     "text": [
      "[ 0.          0.20408163  0.40816327  0.6122449   0.81632653  1.02040816\n",
      "  1.2244898   1.42857143  1.63265306  1.83673469  2.04081633  2.24489796\n",
      "  2.44897959  2.65306122  2.85714286  3.06122449  3.26530612  3.46938776\n",
      "  3.67346939  3.87755102  4.08163265  4.28571429  4.48979592  4.69387755\n",
      "  4.89795918  5.10204082  5.30612245  5.51020408  5.71428571  5.91836735\n",
      "  6.12244898  6.32653061  6.53061224  6.73469388  6.93877551  7.14285714\n",
      "  7.34693878  7.55102041  7.75510204  7.95918367  8.16326531  8.36734694\n",
      "  8.57142857  8.7755102   8.97959184  9.18367347  9.3877551   9.59183673\n",
      "  9.79591837 10.        ]\n"
     ]
    }
   ],
   "source": [
    "a6 = np.linspace(0,10,50)\n",
    "print(a6)"
   ]
  },
  {
   "cell_type": "code",
   "execution_count": 66,
   "id": "6fcbb764",
   "metadata": {},
   "outputs": [
    {
     "name": "stdout",
     "output_type": "stream",
     "text": [
      "<class 'numpy.ndarray'>\n",
      "int64\n"
     ]
    }
   ],
   "source": [
    "print(type(a6))\n",
    "print(a2.dtype)"
   ]
  },
  {
   "cell_type": "code",
   "execution_count": 67,
   "id": "923a0970",
   "metadata": {},
   "outputs": [
    {
     "name": "stdout",
     "output_type": "stream",
     "text": [
      "['1' '2' '3' '4' '5' '6' 'mrunmay']\n"
     ]
    }
   ],
   "source": [
    "c = [1,2,3,4,5,6,'mrunmay']\n",
    "a7 = np.array(c)\n",
    "print(a7)"
   ]
  },
  {
   "cell_type": "code",
   "execution_count": 68,
   "id": "f9f6f969",
   "metadata": {},
   "outputs": [
    {
     "name": "stdout",
     "output_type": "stream",
     "text": [
      "[2. 3. 4. 5.]\n"
     ]
    }
   ],
   "source": [
    "a8 = np.array([2,3,4,5],dtype = \"float64\")\n",
    "print(a8)"
   ]
  },
  {
   "cell_type": "code",
   "execution_count": 69,
   "id": "a380d315",
   "metadata": {},
   "outputs": [
    {
     "name": "stdout",
     "output_type": "stream",
     "text": [
      "[        10000000000 7766279631452241920]\n"
     ]
    }
   ],
   "source": [
    "a9 = np.array([10,100])\n",
    "print(a9**10)#memory limit"
   ]
  },
  {
   "cell_type": "code",
   "execution_count": 82,
   "id": "816b9c56",
   "metadata": {},
   "outputs": [
    {
     "name": "stdout",
     "output_type": "stream",
     "text": [
      "[[ 2  6 10]\n",
      " [ 4  8 12]]\n",
      "2\n",
      "(2, 3)\n",
      "<class 'numpy.ndarray'>\n",
      "int64\n"
     ]
    }
   ],
   "source": [
    "d = [[1,3,5],[2,4,6]]\n",
    "b1 = np.array(d)\n",
    "print(b1*2)\n",
    "print(b1.ndim)\n",
    "print(b1.shape)#row,col\n",
    "print(type(b1))\n",
    "print(b1.dtype)"
   ]
  },
  {
   "cell_type": "code",
   "execution_count": 86,
   "id": "96f7bfc7",
   "metadata": {},
   "outputs": [
    {
     "name": "stdout",
     "output_type": "stream",
     "text": [
      "[ 1  2  3  4  5  6  7  8  9 10 11 12]\n",
      "[[ 1  2  3  4]\n",
      " [ 5  6  7  8]\n",
      " [ 9 10 11 12]]\n"
     ]
    }
   ],
   "source": [
    "b2 = np.arange(1,13,1)\n",
    "print(b2)\n",
    "print(b2.reshape(3,4))"
   ]
  },
  {
   "cell_type": "code",
   "execution_count": 87,
   "id": "f6581e57",
   "metadata": {},
   "outputs": [
    {
     "name": "stdout",
     "output_type": "stream",
     "text": [
      "[[ 1  2  3  4  5  6  7]\n",
      " [ 8  9 10 11 12 13 14]\n",
      " [15 16 17 18 19 20 21]\n",
      " [22 23 24 25 26 27 28]\n",
      " [29 30 31 32 33 34 35]\n",
      " [36 37 38 39 40 41 42]\n",
      " [43 44 45 46 47 48 49]]\n"
     ]
    }
   ],
   "source": [
    "print(np.arange(1,50,1).reshape(7,7))"
   ]
  },
  {
   "cell_type": "code",
   "execution_count": 94,
   "id": "6afc5cbe",
   "metadata": {},
   "outputs": [
    {
     "data": {
      "text/plain": [
       "array([[ 1,  2,  3,  4],\n",
       "       [ 5,  6,  7,  8],\n",
       "       [ 9, 10, 11, 12],\n",
       "       [13, 14, 15, 16]])"
      ]
     },
     "execution_count": 94,
     "metadata": {},
     "output_type": "execute_result"
    }
   ],
   "source": [
    "b3 = np.arange(1,17,1)\n",
    "b3.reshape(-1,4)#to get the rows same for col (4,-1) -1 if you dont know any one of them."
   ]
  },
  {
   "cell_type": "code",
   "execution_count": 141,
   "id": "a14b8797",
   "metadata": {},
   "outputs": [
    {
     "name": "stdout",
     "output_type": "stream",
     "text": [
      "[[ 1  2  3  4]\n",
      " [ 5  6  7  8]\n",
      " [ 9 10 11 12]] \n",
      "\n",
      "[[ 1  5  9]\n",
      " [ 2  6 10]\n",
      " [ 3  7 11]\n",
      " [ 4  8 12]]\n"
     ]
    }
   ],
   "source": [
    "b4 = np.arange(1,13,1).reshape(3,4)\n",
    "print(b4,\"\\n\")\n",
    "print(b4.T)#For transverse means change row to col and col to row"
   ]
  },
  {
   "cell_type": "code",
   "execution_count": 140,
   "id": "646bbaca",
   "metadata": {},
   "outputs": [
    {
     "name": "stdout",
     "output_type": "stream",
     "text": [
      "[[ 1  2  3  4]\n",
      " [ 5  6  7  8]\n",
      " [ 9 10 11 12]] \n",
      "\n",
      "[ 1  2  3  4  5  6  7  8  9 10 11 12]\n"
     ]
    }
   ],
   "source": [
    "print(b4,\"\\n\")\n",
    "print(b4.flatten())"
   ]
  },
  {
   "cell_type": "code",
   "execution_count": 102,
   "id": "7ae9a4aa",
   "metadata": {},
   "outputs": [
    {
     "name": "stdout",
     "output_type": "stream",
     "text": [
      "[[ 1  2  3  4]\n",
      " [ 5  6  7  8]\n",
      " [ 9 10 11 12]]\n",
      "7\n",
      "12\n",
      "5\n"
     ]
    }
   ],
   "source": [
    "print(b4)#Not change the original value\n",
    "print(b4[1][2])#Row and col simultineously\n",
    "print(b4[2][3])\n",
    "print(b4[1,0])#Can be written like this"
   ]
  },
  {
   "cell_type": "code",
   "execution_count": 139,
   "id": "de3efb6c",
   "metadata": {},
   "outputs": [
    {
     "name": "stdout",
     "output_type": "stream",
     "text": [
      "[0. 0. 0.] \n",
      "\n",
      "[0 0 0]\n"
     ]
    }
   ],
   "source": [
    "b5 = np.zeros(3)\n",
    "print(b5,\"\\n\")\n",
    "b6 = np.zeros(3,dtype= \"int64\")\n",
    "print(b6)"
   ]
  },
  {
   "cell_type": "code",
   "execution_count": 137,
   "id": "b945812e",
   "metadata": {},
   "outputs": [
    {
     "name": "stdout",
     "output_type": "stream",
     "text": [
      "[0. 0. 0. 0. 0.] \n",
      "\n",
      "[[0 0 0]\n",
      " [0 0 0]\n",
      " [0 0 0]]\n"
     ]
    }
   ],
   "source": [
    "b7 = np.zeros(5)\n",
    "print(b7,\"\\n\")\n",
    "b8 = np.zeros((3,3), dtype = \"int64\")\n",
    "print(b8)"
   ]
  },
  {
   "cell_type": "code",
   "execution_count": 119,
   "id": "a1859390",
   "metadata": {},
   "outputs": [
    {
     "name": "stdout",
     "output_type": "stream",
     "text": [
      "[[1. 1. 1. 1.]\n",
      " [1. 1. 1. 1.]\n",
      " [1. 1. 1. 1.]]\n"
     ]
    }
   ],
   "source": [
    "b9 = np.ones((3,4))\n",
    "print(b9)"
   ]
  },
  {
   "cell_type": "code",
   "execution_count": 134,
   "id": "dfc1992a",
   "metadata": {},
   "outputs": [
    {
     "name": "stdout",
     "output_type": "stream",
     "text": [
      "[[7 7 7 7]\n",
      " [7 7 7 7]\n",
      " [7 7 7 7]] \n",
      "\n",
      "[[2.9 2.9 2.9 2.9 2.9]\n",
      " [2.9 2.9 2.9 2.9 2.9]\n",
      " [2.9 2.9 2.9 2.9 2.9]\n",
      " [2.9 2.9 2.9 2.9 2.9]]\n"
     ]
    }
   ],
   "source": [
    "c1 = np.full((3,4),7)\n",
    "print(c1,\"\\n\")\n",
    "c2 = np.full((4,5),2.9)\n",
    "print(c2)"
   ]
  },
  {
   "cell_type": "code",
   "execution_count": 144,
   "id": "cddb978e",
   "metadata": {},
   "outputs": [
    {
     "name": "stdout",
     "output_type": "stream",
     "text": [
      "[[0 0 0 0 0 0 0 0 0 0]\n",
      " [0 1 0 0 0 0 0 0 0 0]\n",
      " [0 0 2 0 0 0 0 0 0 0]\n",
      " [0 0 0 3 0 0 0 0 0 0]\n",
      " [0 0 0 0 4 0 0 0 0 0]\n",
      " [0 0 0 0 0 5 0 0 0 0]\n",
      " [0 0 0 0 0 0 6 0 0 0]\n",
      " [0 0 0 0 0 0 0 7 0 0]\n",
      " [0 0 0 0 0 0 0 0 8 0]\n",
      " [0 0 0 0 0 0 0 0 0 9]]\n"
     ]
    }
   ],
   "source": [
    "c3 = np.diag([0,1,2,3,4,5,6,7,8,9])\n",
    "print(c3)"
   ]
  },
  {
   "cell_type": "code",
   "execution_count": 147,
   "id": "f32b9b14",
   "metadata": {},
   "outputs": [
    {
     "name": "stdout",
     "output_type": "stream",
     "text": [
      "[[1. 0. 0. 0. 0. 0. 0. 0.]\n",
      " [0. 1. 0. 0. 0. 0. 0. 0.]\n",
      " [0. 0. 1. 0. 0. 0. 0. 0.]\n",
      " [0. 0. 0. 1. 0. 0. 0. 0.]\n",
      " [0. 0. 0. 0. 1. 0. 0. 0.]\n",
      " [0. 0. 0. 0. 0. 1. 0. 0.]\n",
      " [0. 0. 0. 0. 0. 0. 1. 0.]\n",
      " [0. 0. 0. 0. 0. 0. 0. 1.]]\n"
     ]
    }
   ],
   "source": [
    "c4 = np.identity(8)\n",
    "print(c4)#Prints all 1 for matrix size k*k"
   ]
  },
  {
   "cell_type": "code",
   "execution_count": 150,
   "id": "63c804ec",
   "metadata": {},
   "outputs": [
    {
     "name": "stdout",
     "output_type": "stream",
     "text": [
      "[1 3 5 7 9] \n",
      "\n",
      "[1 3 5 7 9]\n"
     ]
    }
   ],
   "source": [
    "c5 = np.array([1,2,3,4,5,6,7,8,9])\n",
    "print(c5[0:9:2],\"\\n\")\n",
    "print(c5[[0,2,4,6,8]])#Both are same"
   ]
  },
  {
   "cell_type": "code",
   "execution_count": 155,
   "id": "0cdee688",
   "metadata": {},
   "outputs": [
    {
     "name": "stdout",
     "output_type": "stream",
     "text": [
      "[[1 2 3]\n",
      " [4 5 6]\n",
      " [7 8 9]] \n",
      "\n",
      "[2 3 1]\n"
     ]
    }
   ],
   "source": [
    "c6 = np.arange(1,10).reshape(3,3)\n",
    "print(c6,\"\\n\")\n",
    "print(c6[[0,0,0],[1,2,0]])#First list row and 2nd list col"
   ]
  },
  {
   "cell_type": "code",
   "execution_count": 161,
   "id": "74b98a8c",
   "metadata": {},
   "outputs": [
    {
     "name": "stdout",
     "output_type": "stream",
     "text": [
      "[[1 2 3]\n",
      " [4 5 6]\n",
      " [7 8 9]] \n",
      "\n",
      "[[7 8 9]\n",
      " [4 5 6]\n",
      " [1 2 3]] \n",
      "\n",
      "[[1 2 3]\n",
      " [4 5 6]] \n",
      "\n",
      "[[1 2]\n",
      " [4 5]\n",
      " [7 8]]\n"
     ]
    }
   ],
   "source": [
    "print(c6,\"\\n\")\n",
    "print(c6[::-1],\"\\n\")\n",
    "print(c6[:2,:],\"\\n\")#Two rowa and all col\n",
    "print(c6[:,:2])"
   ]
  },
  {
   "cell_type": "code",
   "execution_count": 166,
   "id": "668085f1",
   "metadata": {},
   "outputs": [
    {
     "name": "stdout",
     "output_type": "stream",
     "text": [
      "[4 5] \n",
      "\n",
      "[[1 3]\n",
      " [4 6]\n",
      " [7 9]]\n"
     ]
    }
   ],
   "source": [
    "print(c6[1,:2],\"\\n\")\n",
    "print(c6[:,(0,2)])"
   ]
  },
  {
   "cell_type": "code",
   "execution_count": 188,
   "id": "2fb0a070",
   "metadata": {},
   "outputs": [
    {
     "name": "stdout",
     "output_type": "stream",
     "text": [
      "[[9 8 7]\n",
      " [6 5 4]\n",
      " [3 2 1]] \n",
      "\n",
      "[[ 9  8 33]\n",
      " [ 6  5  4]\n",
      " [ 3  2  1]]\n"
     ]
    }
   ],
   "source": [
    "c7 = np.arange(9,0,-1).reshape(3,3)\n",
    "print(c7,\"\\n\")\n",
    "c7[0,2] = 33\n",
    "print(c7)"
   ]
  },
  {
   "cell_type": "code",
   "execution_count": 189,
   "id": "f3303bf7",
   "metadata": {},
   "outputs": [
    {
     "name": "stdout",
     "output_type": "stream",
     "text": [
      "[[9 8 7]\n",
      " [6 5 4]\n",
      " [3 2 1]] \n",
      "\n",
      "[[77 77 77]\n",
      " [77 77 77]\n",
      " [ 3  2  1]] \n",
      "\n"
     ]
    }
   ],
   "source": [
    "c7 = np.arange(9,0,-1).reshape(3,3)\n",
    "print(c7,\"\\n\")\n",
    "c7[0:2:1] = 77\n",
    "print(c7,\"\\n\")"
   ]
  },
  {
   "cell_type": "code",
   "execution_count": 193,
   "id": "fc8b73cf",
   "metadata": {},
   "outputs": [
    {
     "name": "stdout",
     "output_type": "stream",
     "text": [
      "[[9 8 7]\n",
      " [6 5 4]\n",
      " [3 2 1]] \n",
      "\n",
      "[[77 77 77]\n",
      " [77 77 77]\n",
      " [ 3  2  1]]\n"
     ]
    }
   ],
   "source": [
    "c7 = np.arange(9,0,-1).reshape(3,3)\n",
    "print(c7,\"\\n\")\n",
    "c7[:2] = 77\n",
    "print(c7)"
   ]
  },
  {
   "cell_type": "code",
   "execution_count": null,
   "id": "38786320",
   "metadata": {},
   "outputs": [],
   "source": []
  }
 ],
 "metadata": {
  "kernelspec": {
   "display_name": "Python 3 (ipykernel)",
   "language": "python",
   "name": "python3"
  },
  "language_info": {
   "codemirror_mode": {
    "name": "ipython",
    "version": 3
   },
   "file_extension": ".py",
   "mimetype": "text/x-python",
   "name": "python",
   "nbconvert_exporter": "python",
   "pygments_lexer": "ipython3",
   "version": "3.9.7"
  }
 },
 "nbformat": 4,
 "nbformat_minor": 5
}
